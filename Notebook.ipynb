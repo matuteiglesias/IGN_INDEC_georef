{
 "cells": [
  {
   "cell_type": "code",
   "execution_count": 1,
   "metadata": {},
   "outputs": [
    {
     "data": {
      "text/html": [
       "<style>.container { width:100% !important; }</style>"
      ],
      "text/plain": [
       "<IPython.core.display.HTML object>"
      ]
     },
     "metadata": {},
     "output_type": "display_data"
    }
   ],
   "source": [
    "import pandas as pd\n",
    "import geopandas as gpd\n",
    "\n",
    "from IPython.core.display import display, HTML\n",
    "display(HTML(\"<style>.container { width:100% !important; }</style>\"))\n",
    "\n",
    "pd.options.display.max_colwidth = 99\n",
    "\n",
    "import matplotlib.pyplot as plt\n",
    "%matplotlib inline"
   ]
  },
  {
   "cell_type": "code",
   "execution_count": 2,
   "metadata": {},
   "outputs": [],
   "source": [
    "import warnings\n",
    "warnings.filterwarnings('ignore')"
   ]
  },
  {
   "cell_type": "code",
   "execution_count": 3,
   "metadata": {},
   "outputs": [],
   "source": [
    "### Algoritmo\n",
    "\n",
    "# - Primero haber excluido CABA en caso 1991, 2001.\n",
    "\n",
    "# Cargar base de datos y mergear por codigo\n",
    "# (Deptos en Base del Censo son los mismo que tiene Rodriguez?)\n",
    "\n",
    "# Chequear la superposicion de los mergeados -> pasan a OK\n",
    "\n",
    "#lo que no esta OK y lo que no coincide codigo va todo a compararse en spatial join\n",
    "\n",
    "# Se concatenan resultados"
   ]
  },
  {
   "cell_type": "code",
   "execution_count": 4,
   "metadata": {},
   "outputs": [],
   "source": [
    "year = '2001'"
   ]
  },
  {
   "cell_type": "markdown",
   "metadata": {},
   "source": [
    "### Codigos de Fracciones segun base de datos"
   ]
  },
  {
   "cell_type": "code",
   "execution_count": 5,
   "metadata": {},
   "outputs": [],
   "source": [
    "path_ = '/media/miglesia/Elements1/CENSO_dirs/Censo_'+year\n",
    "\n",
    "if year == '1991':\n",
    "    censo = pd.read_csv(path_ + '/FRACCION.csv', ';'\n",
    "                       ).merge(pd.read_csv(path_ + '/DEPTO.csv', ';')\n",
    "                             ).merge(pd.read_csv(path_ + '/PROVIN.csv', ';'))\n",
    "    censo = censo.rename(columns = {'PROVIN': 'IDPROV', 'DEPTO': 'IDDPTO', 'FRACCION': 'IDFRAC', 'RADIO': 'IDRADIO'})\n",
    "    \n",
    "else:\n",
    "    censo = pd.read_csv(path_ + '/FRAC.csv', ';'\n",
    "                  ).merge(pd.read_csv(path_ + '/DPTO.csv', ';')\n",
    "                         ).merge(pd.read_csv(path_ + '/PROV.csv', ';'))\n",
    "    \n",
    "\n",
    "# df['COD_1991'] = df['IDPROV'].astype(str).str.zfill(2) + df['IDDPTO'].astype(str).str.zfill(3) \\\n",
    "# + df['IDFRAC'].astype(str).str.zfill(2) + df['IDRADIO'].astype(str).str.zfill(2)\n",
    "\n",
    "\n",
    "## Este df tiene Antartida e Islas, que en el archivo de Rodriguez no estan.\n",
    "# 94021 Antártida Argentina, 94028 Islas del Atlántico Sur\n",
    "# Se mergean por codigo, igual...\n",
    "\n",
    "# # Excluyo CABA, en censos1991, 2001\n",
    "# censo = censo.loc[censo.PROV != 2]\n",
    "\n",
    "## Adapto columnas para mergear\n",
    "censo['PROV_'] = censo.IDPROV.astype(str).str.zfill(2)\n",
    "censo['DEPTO_'] = censo.IDDPTO.astype(str).str.zfill(3)\n",
    "censo['FRACC_'] = censo.IDFRAC.astype(str).str.zfill(2)"
   ]
  },
  {
   "cell_type": "code",
   "execution_count": 6,
   "metadata": {},
   "outputs": [
    {
     "data": {
      "text/html": [
       "<div>\n",
       "<style scoped>\n",
       "    .dataframe tbody tr th:only-of-type {\n",
       "        vertical-align: middle;\n",
       "    }\n",
       "\n",
       "    .dataframe tbody tr th {\n",
       "        vertical-align: top;\n",
       "    }\n",
       "\n",
       "    .dataframe thead th {\n",
       "        text-align: right;\n",
       "    }\n",
       "</style>\n",
       "<table border=\"1\" class=\"dataframe\">\n",
       "  <thead>\n",
       "    <tr style=\"text-align: right;\">\n",
       "      <th></th>\n",
       "      <th>FRAC_REF_ID</th>\n",
       "      <th>DPTO_REF_ID</th>\n",
       "      <th>IDFRAC</th>\n",
       "      <th>PROV_REF_ID</th>\n",
       "      <th>IDDPTO</th>\n",
       "      <th>DPTO</th>\n",
       "      <th>NOMDEPTO</th>\n",
       "      <th>CPV2001_REF_ID</th>\n",
       "      <th>IDPROV</th>\n",
       "      <th>PROV</th>\n",
       "      <th>NOMPROV</th>\n",
       "      <th>PROV_</th>\n",
       "      <th>DEPTO_</th>\n",
       "      <th>FRACC_</th>\n",
       "    </tr>\n",
       "  </thead>\n",
       "  <tbody>\n",
       "    <tr>\n",
       "      <th>0</th>\n",
       "      <td>1</td>\n",
       "      <td>1</td>\n",
       "      <td>1</td>\n",
       "      <td>1</td>\n",
       "      <td>1</td>\n",
       "      <td>2001</td>\n",
       "      <td>D.E. I</td>\n",
       "      <td>1</td>\n",
       "      <td>2</td>\n",
       "      <td>2</td>\n",
       "      <td>CIUDAD AUTONOMA DE BUENOS AIRES</td>\n",
       "      <td>02</td>\n",
       "      <td>001</td>\n",
       "      <td>01</td>\n",
       "    </tr>\n",
       "    <tr>\n",
       "      <th>1</th>\n",
       "      <td>2</td>\n",
       "      <td>1</td>\n",
       "      <td>2</td>\n",
       "      <td>1</td>\n",
       "      <td>1</td>\n",
       "      <td>2001</td>\n",
       "      <td>D.E. I</td>\n",
       "      <td>1</td>\n",
       "      <td>2</td>\n",
       "      <td>2</td>\n",
       "      <td>CIUDAD AUTONOMA DE BUENOS AIRES</td>\n",
       "      <td>02</td>\n",
       "      <td>001</td>\n",
       "      <td>02</td>\n",
       "    </tr>\n",
       "  </tbody>\n",
       "</table>\n",
       "</div>"
      ],
      "text/plain": [
       "   FRAC_REF_ID  DPTO_REF_ID  IDFRAC  PROV_REF_ID  IDDPTO  DPTO  \\\n",
       "0            1            1       1            1       1  2001   \n",
       "1            2            1       2            1       1  2001   \n",
       "\n",
       "                                             NOMDEPTO  CPV2001_REF_ID  IDPROV  \\\n",
       "0  D.E. I                                                           1       2   \n",
       "1  D.E. I                                                           1       2   \n",
       "\n",
       "   PROV                                             NOMPROV PROV_ DEPTO_  \\\n",
       "0     2  CIUDAD AUTONOMA DE BUENOS AIRES                       02    001   \n",
       "1     2  CIUDAD AUTONOMA DE BUENOS AIRES                       02    001   \n",
       "\n",
       "  FRACC_  \n",
       "0     01  \n",
       "1     02  "
      ]
     },
     "execution_count": 6,
     "metadata": {},
     "output_type": "execute_result"
    }
   ],
   "source": [
    "censo.head(2)"
   ]
  },
  {
   "cell_type": "markdown",
   "metadata": {},
   "source": [
    "### Shapefile de Censo revisado por CONICET"
   ]
  },
  {
   "cell_type": "code",
   "execution_count": 7,
   "metadata": {},
   "outputs": [],
   "source": [
    "CONICET_radios = gpd.read_file('./'+year+'_RADIOS ARGENTINA/')\n",
    "CONICET_radios['geometry'] = CONICET_radios['geometry'].buffer(1) # Un metro de buffer para garantizar que no queden marcas entre radios\n",
    "# CONICET_radios = CONICET_radios.to_crs({'init': \"EPSG:4326\"})\n",
    "\n",
    "## El archivo de rodriguez de 2010 tiene un prolemita por el cual los codigos de deptos de la provincia de Formosa fueron sobreescritos con los codigos de fracciones. \n",
    "# Para constatar que afecta solamente a todas las entradas de formosa (PROV 34)\n",
    "# (CONICET_radios['COD_2010'].str[2:5] == CONICET_radios.DEPTO_).groupby(CONICET_radios.PROV_).sum()/CONICET_radios.groupby(CONICET_radios.PROV_).size()\n",
    "if year == '2010':    # Lo corregimos\n",
    "    CONICET_radios['DEPTO_'] = CONICET_radios['COD_2010'].str[2:5]\n",
    "    \n",
    "    \n",
    "# # # Excluyo CABA, en censos 1991, 2001\n",
    "# if year in ['1991', '2001']:\n",
    "#     CONICET_radios = CONICET_radios.loc[CONICET_radios.PROV_ != '02']"
   ]
  },
  {
   "cell_type": "markdown",
   "metadata": {},
   "source": [
    "### Disolver a nivel fracciones o deptos"
   ]
  },
  {
   "cell_type": "code",
   "execution_count": 8,
   "metadata": {},
   "outputs": [
    {
     "data": {
      "text/html": [
       "<div>\n",
       "<style scoped>\n",
       "    .dataframe tbody tr th:only-of-type {\n",
       "        vertical-align: middle;\n",
       "    }\n",
       "\n",
       "    .dataframe tbody tr th {\n",
       "        vertical-align: top;\n",
       "    }\n",
       "\n",
       "    .dataframe thead th {\n",
       "        text-align: right;\n",
       "    }\n",
       "</style>\n",
       "<table border=\"1\" class=\"dataframe\">\n",
       "  <thead>\n",
       "    <tr style=\"text-align: right;\">\n",
       "      <th></th>\n",
       "      <th>PROV_</th>\n",
       "      <th>DEPTO_</th>\n",
       "      <th>geometry</th>\n",
       "    </tr>\n",
       "  </thead>\n",
       "  <tbody>\n",
       "    <tr>\n",
       "      <th>526</th>\n",
       "      <td>90</td>\n",
       "      <td>105</td>\n",
       "      <td>POLYGON ((3578949.470242848 7037156.000402951, 3578901.479171186 7037157.000216943, 3578901.451...</td>\n",
       "    </tr>\n",
       "    <tr>\n",
       "      <th>527</th>\n",
       "      <td>90</td>\n",
       "      <td>112</td>\n",
       "      <td>POLYGON ((3577121.25 7062005.444252735, 3577121.25 7061933.5, 3577121.248460353 7061933.4445299...</td>\n",
       "    </tr>\n",
       "    <tr>\n",
       "      <th>528</th>\n",
       "      <td>90</td>\n",
       "      <td>119</td>\n",
       "      <td>POLYGON ((3572646.936829273 7032956.652368576, 3572646.930896829 7032956.634717789, 3572646.918...</td>\n",
       "    </tr>\n",
       "    <tr>\n",
       "      <th>529</th>\n",
       "      <td>94</td>\n",
       "      <td>007</td>\n",
       "      <td>POLYGON ((3424455.796535045 3954208.017978789, 3424456.998930047 3954182.046246762, 3424456.999...</td>\n",
       "    </tr>\n",
       "    <tr>\n",
       "      <th>530</th>\n",
       "      <td>94</td>\n",
       "      <td>014</td>\n",
       "      <td>(POLYGON ((3607155.497432193 3937078.428382806, 3607155.486186475 3937078.334361122, 3607155.46...</td>\n",
       "    </tr>\n",
       "  </tbody>\n",
       "</table>\n",
       "</div>"
      ],
      "text/plain": [
       "    PROV_ DEPTO_  \\\n",
       "526    90    105   \n",
       "527    90    112   \n",
       "528    90    119   \n",
       "529    94    007   \n",
       "530    94    014   \n",
       "\n",
       "                                                                                               geometry  \n",
       "526  POLYGON ((3578949.470242848 7037156.000402951, 3578901.479171186 7037157.000216943, 3578901.451...  \n",
       "527  POLYGON ((3577121.25 7062005.444252735, 3577121.25 7061933.5, 3577121.248460353 7061933.4445299...  \n",
       "528  POLYGON ((3572646.936829273 7032956.652368576, 3572646.930896829 7032956.634717789, 3572646.918...  \n",
       "529  POLYGON ((3424455.796535045 3954208.017978789, 3424456.998930047 3954182.046246762, 3424456.999...  \n",
       "530  (POLYGON ((3607155.497432193 3937078.428382806, 3607155.486186475 3937078.334361122, 3607155.46...  "
      ]
     },
     "execution_count": 8,
     "metadata": {},
     "output_type": "execute_result"
    }
   ],
   "source": [
    "#  disuelto a nivel Fracciones\n",
    "CONICET_fracs = CONICET_radios.dissolve(['PROV_', 'DEPTO_', 'FRACC_']).reset_index()\n",
    "CONICET_dptos = CONICET_fracs.dropna(subset = ['geometry']).dissolve(['PROV_', 'DEPTO_']).reset_index()\n",
    "\n",
    "## Quitamos las columnas de nivel radio, que deberian desaparecer al disolver:\n",
    "columnas_radios = ['COD_'+year,'RADIO_','OBS_','CODAGLO_1','CODAGLO_2','CODAGLO_3','CODAGLO_4','CODAGLO_5']\n",
    "CONICET_fracs = CONICET_fracs.drop(columnas_radios, 1)\n",
    "CONICET_dptos = CONICET_dptos.drop(['FRACC_'] + columnas_radios, 1)\n",
    "\n",
    "CONICET_dptos.tail()"
   ]
  },
  {
   "cell_type": "markdown",
   "metadata": {},
   "source": [
    "### Asignar geometrias a los codigos de areas en el censo."
   ]
  },
  {
   "cell_type": "code",
   "execution_count": 9,
   "metadata": {},
   "outputs": [],
   "source": [
    "dptos_censo = censo[['PROV_','DEPTO_']].drop_duplicates().merge(CONICET_dptos[['PROV_','DEPTO_', 'geometry']], how = 'left')\n",
    "dptos_censo = dptos_censo.dropna() # Antartida\n",
    "dptos_censo.crs = CONICET_radios.crs"
   ]
  },
  {
   "cell_type": "markdown",
   "metadata": {},
   "source": [
    "### Referencia IGN"
   ]
  },
  {
   "cell_type": "code",
   "execution_count": 10,
   "metadata": {},
   "outputs": [
    {
     "data": {
      "text/html": [
       "<div>\n",
       "<style scoped>\n",
       "    .dataframe tbody tr th:only-of-type {\n",
       "        vertical-align: middle;\n",
       "    }\n",
       "\n",
       "    .dataframe tbody tr th {\n",
       "        vertical-align: top;\n",
       "    }\n",
       "\n",
       "    .dataframe thead th {\n",
       "        text-align: right;\n",
       "    }\n",
       "</style>\n",
       "<table border=\"1\" class=\"dataframe\">\n",
       "  <thead>\n",
       "    <tr style=\"text-align: right;\">\n",
       "      <th></th>\n",
       "      <th>gid</th>\n",
       "      <th>objeto</th>\n",
       "      <th>fna</th>\n",
       "      <th>gna</th>\n",
       "      <th>nam</th>\n",
       "      <th>in1</th>\n",
       "      <th>fdc</th>\n",
       "      <th>sag</th>\n",
       "      <th>geometry</th>\n",
       "      <th>PROV_</th>\n",
       "      <th>DEPTO_</th>\n",
       "    </tr>\n",
       "  </thead>\n",
       "  <tbody>\n",
       "    <tr>\n",
       "      <th>0</th>\n",
       "      <td>31</td>\n",
       "      <td>Departamento</td>\n",
       "      <td>Partido de General Lavalle</td>\n",
       "      <td>Partido</td>\n",
       "      <td>General Lavalle</td>\n",
       "      <td>06336</td>\n",
       "      <td>ARBA - Gerencia de Servicios Catastrales</td>\n",
       "      <td>IGN</td>\n",
       "      <td>POLYGON ((4329062.509609145 5941098.999804945, 4329064.399665998 5941096.142980715, 4329065.472...</td>\n",
       "      <td>06</td>\n",
       "      <td>336</td>\n",
       "    </tr>\n",
       "    <tr>\n",
       "      <th>1</th>\n",
       "      <td>32</td>\n",
       "      <td>Departamento</td>\n",
       "      <td>Partido de La Costa</td>\n",
       "      <td>Partido</td>\n",
       "      <td>La Costa</td>\n",
       "      <td>06420</td>\n",
       "      <td>ARBA - Gerencia de Servicios Catastrales</td>\n",
       "      <td>IGN</td>\n",
       "      <td>POLYGON ((4320378.90661143 5861758.19121304, 4320302.467809119 5861797.370885292, 4320295.36175...</td>\n",
       "      <td>06</td>\n",
       "      <td>420</td>\n",
       "    </tr>\n",
       "    <tr>\n",
       "      <th>2</th>\n",
       "      <td>33</td>\n",
       "      <td>Departamento</td>\n",
       "      <td>Partido de Magdalena</td>\n",
       "      <td>Partido</td>\n",
       "      <td>Magdalena</td>\n",
       "      <td>06505</td>\n",
       "      <td>ARBA - Gerencia de Servicios Catastrales</td>\n",
       "      <td>IGN</td>\n",
       "      <td>POLYGON ((4258724.680924041 6103473.496525175, 4258751.558785764 6103469.118520383, 4258770.759...</td>\n",
       "      <td>06</td>\n",
       "      <td>505</td>\n",
       "    </tr>\n",
       "    <tr>\n",
       "      <th>3</th>\n",
       "      <td>34</td>\n",
       "      <td>Departamento</td>\n",
       "      <td>Partido de Vicente López</td>\n",
       "      <td>Partido</td>\n",
       "      <td>Vicente López</td>\n",
       "      <td>06861</td>\n",
       "      <td>ARBA - Gerencia de Servicios Catastrales</td>\n",
       "      <td>IGN</td>\n",
       "      <td>POLYGON ((4191463.218437184 6157673.635250164, 4191456.79243413 6157671.71945148, 4191450.96017...</td>\n",
       "      <td>06</td>\n",
       "      <td>861</td>\n",
       "    </tr>\n",
       "    <tr>\n",
       "      <th>4</th>\n",
       "      <td>91</td>\n",
       "      <td>Departamento</td>\n",
       "      <td>Departamento San Justo</td>\n",
       "      <td>Departamento</td>\n",
       "      <td>San Justo</td>\n",
       "      <td>14140</td>\n",
       "      <td>IDE Cordoba</td>\n",
       "      <td>IGN</td>\n",
       "      <td>POLYGON ((3869405.818689292 6631659.425839691, 3869758.837882656 6630199.599318543, 3870316.053...</td>\n",
       "      <td>14</td>\n",
       "      <td>140</td>\n",
       "    </tr>\n",
       "  </tbody>\n",
       "</table>\n",
       "</div>"
      ],
      "text/plain": [
       "   gid        objeto                         fna           gna  \\\n",
       "0   31  Departamento  Partido de General Lavalle       Partido   \n",
       "1   32  Departamento         Partido de La Costa       Partido   \n",
       "2   33  Departamento        Partido de Magdalena       Partido   \n",
       "3   34  Departamento    Partido de Vicente López       Partido   \n",
       "4   91  Departamento      Departamento San Justo  Departamento   \n",
       "\n",
       "               nam    in1                                       fdc  sag  \\\n",
       "0  General Lavalle  06336  ARBA - Gerencia de Servicios Catastrales  IGN   \n",
       "1         La Costa  06420  ARBA - Gerencia de Servicios Catastrales  IGN   \n",
       "2        Magdalena  06505  ARBA - Gerencia de Servicios Catastrales  IGN   \n",
       "3    Vicente López  06861  ARBA - Gerencia de Servicios Catastrales  IGN   \n",
       "4        San Justo  14140                               IDE Cordoba  IGN   \n",
       "\n",
       "                                                                                             geometry  \\\n",
       "0  POLYGON ((4329062.509609145 5941098.999804945, 4329064.399665998 5941096.142980715, 4329065.472...   \n",
       "1  POLYGON ((4320378.90661143 5861758.19121304, 4320302.467809119 5861797.370885292, 4320295.36175...   \n",
       "2  POLYGON ((4258724.680924041 6103473.496525175, 4258751.558785764 6103469.118520383, 4258770.759...   \n",
       "3  POLYGON ((4191463.218437184 6157673.635250164, 4191456.79243413 6157671.71945148, 4191450.96017...   \n",
       "4  POLYGON ((3869405.818689292 6631659.425839691, 3869758.837882656 6630199.599318543, 3870316.053...   \n",
       "\n",
       "  PROV_ DEPTO_  \n",
       "0    06    336  \n",
       "1    06    420  \n",
       "2    06    505  \n",
       "3    06    861  \n",
       "4    14    140  "
      ]
     },
     "execution_count": 10,
     "metadata": {},
     "output_type": "execute_result"
    }
   ],
   "source": [
    "ref_ = gpd.read_file('./../chequeo_geo/departamento_IGN/')\n",
    "ref_ = ref_.loc[~ref_.in1.isin(['94028', '94021'])] # Excluir Antartida e Islas\n",
    "ref_ = ref_.to_crs(CONICET_radios.crs)\n",
    "ref_['PROV_'] = ref_['in1'].str[:2]\n",
    "ref_['DEPTO_'] = ref_['in1'].str[2:]\n",
    "ref_.head()"
   ]
  },
  {
   "cell_type": "code",
   "execution_count": 11,
   "metadata": {},
   "outputs": [],
   "source": [
    "ref_provs = gpd.read_file('./../chequeo_geo/provincia_IGN/')\n",
    "ref_provs = ref_provs.to_crs(CONICET_radios.crs)\n",
    "ref_provs['PROV_'] = ref_provs['in1'].str[:2]\n",
    "ref_provs['DEPTO_'] = ref_provs['in1'].str[2:]"
   ]
  },
  {
   "cell_type": "code",
   "execution_count": 12,
   "metadata": {},
   "outputs": [],
   "source": [
    "### Quizas es mejor que la union venga luego de cierta informacion."
   ]
  },
  {
   "cell_type": "markdown",
   "metadata": {},
   "source": [
    "## Unir IGN y Censo"
   ]
  },
  {
   "cell_type": "code",
   "execution_count": 13,
   "metadata": {},
   "outputs": [],
   "source": [
    "### Tengo cierta informacion.\n",
    "## Los codigos que son iguales, implican que no hubo cambio de limites. Excepto en CABA, donde los codigos de INDEC de comunas van del 1 al 15, como los codigos de los antiguos DE.\n",
    "\n",
    "# Entonces, puedo excluir todos los codigos "
   ]
  },
  {
   "cell_type": "code",
   "execution_count": 14,
   "metadata": {},
   "outputs": [],
   "source": [
    "crossw_ref = dptos_censo[['PROV_', 'DEPTO_']].merge(ref_[['PROV_', 'DEPTO_', 'in1', 'nam']], how = 'outer', indicator = True)"
   ]
  },
  {
   "cell_type": "code",
   "execution_count": 16,
   "metadata": {
    "scrolled": false
   },
   "outputs": [],
   "source": [
    "## 2001: Interesa CABA o deptos que fueron subdivididos\n",
    "if year == '2001':\n",
    "    crossw_ref = crossw_ref.loc[(crossw_ref.PROV_ == '02') | (crossw_ref._merge != 'both')]"
   ]
  },
  {
   "cell_type": "code",
   "execution_count": 17,
   "metadata": {},
   "outputs": [],
   "source": [
    "## De ahi saco superposiciones, y hago interseccion de radios."
   ]
  },
  {
   "cell_type": "code",
   "execution_count": 18,
   "metadata": {},
   "outputs": [],
   "source": [
    "## Deptos viejos\n",
    "crossw_censo_geo = crossw_ref[['PROV_','DEPTO_']].drop_duplicates().merge(dptos_censo)\n",
    "crossw_censo_geo = gpd.GeoDataFrame(crossw_censo_geo)\n",
    "\n",
    "## Del lado de los de IGN, que sean solo los aceptables.\n",
    "crossw_IGN_geo = ref_.loc[(ref_.PROV_ == '02') | (ref_.in1.isin(crossw_ref.in1.values))]\n"
   ]
  },
  {
   "cell_type": "code",
   "execution_count": 19,
   "metadata": {},
   "outputs": [],
   "source": [
    "crossw_geo = gpd.overlay(crossw_censo_geo[['PROV_','DEPTO_', 'geometry']], crossw_IGN_geo[['in1', 'geometry']], how='intersection')\n"
   ]
  },
  {
   "cell_type": "code",
   "execution_count": 20,
   "metadata": {},
   "outputs": [],
   "source": [
    "## Ahora, hacer la interseccion espacial entre cada deptos del censo con los de IGN.\n",
    "\n",
    "## De un lado los radios a ubicar, aquellos en los deptos viejos.\n",
    "radios_ubicar = gpd.GeoDataFrame(crossw_ref[['PROV_','DEPTO_']].drop_duplicates().merge(CONICET_radios[['PROV_','DEPTO_', 'COD_2001', 'geometry']]))\n"
   ]
  },
  {
   "cell_type": "code",
   "execution_count": 21,
   "metadata": {},
   "outputs": [
    {
     "data": {
      "text/html": [
       "<div>\n",
       "<style scoped>\n",
       "    .dataframe tbody tr th:only-of-type {\n",
       "        vertical-align: middle;\n",
       "    }\n",
       "\n",
       "    .dataframe tbody tr th {\n",
       "        vertical-align: top;\n",
       "    }\n",
       "\n",
       "    .dataframe thead th {\n",
       "        text-align: right;\n",
       "    }\n",
       "</style>\n",
       "<table border=\"1\" class=\"dataframe\">\n",
       "  <thead>\n",
       "    <tr style=\"text-align: right;\">\n",
       "      <th></th>\n",
       "      <th>PROV_</th>\n",
       "      <th>DEPTO_</th>\n",
       "      <th>COD_2001</th>\n",
       "      <th>geometry</th>\n",
       "    </tr>\n",
       "  </thead>\n",
       "  <tbody>\n",
       "    <tr>\n",
       "      <th>0</th>\n",
       "      <td>02</td>\n",
       "      <td>001</td>\n",
       "      <td>020013201</td>\n",
       "      <td>(POLYGON ((4199821.283069543 6148736.97618706, 4199821.377926784 6148736.992521097, 4199821.473...</td>\n",
       "    </tr>\n",
       "    <tr>\n",
       "      <th>1</th>\n",
       "      <td>02</td>\n",
       "      <td>001</td>\n",
       "      <td>020010710</td>\n",
       "      <td>POLYGON ((4199386.00421795 6147696.99885848, 4199386.054304958 6147696.998524398, 4199386.14909...</td>\n",
       "    </tr>\n",
       "    <tr>\n",
       "      <th>2</th>\n",
       "      <td>02</td>\n",
       "      <td>001</td>\n",
       "      <td>020010706</td>\n",
       "      <td>POLYGON ((4197838.251689927 6148255.163349104, 4197838.292893219 6148255.207106781, 4197852.792...</td>\n",
       "    </tr>\n",
       "    <tr>\n",
       "      <th>3</th>\n",
       "      <td>02</td>\n",
       "      <td>001</td>\n",
       "      <td>020010701</td>\n",
       "      <td>POLYGON ((4197465.257097513 6148008.346698114, 4197465.189907974 6148008.276102916, 4197465.116...</td>\n",
       "    </tr>\n",
       "    <tr>\n",
       "      <th>4</th>\n",
       "      <td>02</td>\n",
       "      <td>001</td>\n",
       "      <td>020010702</td>\n",
       "      <td>POLYGON ((4197463.737490864 6148009.646977448, 4197463.742902487 6148009.653301886, 4197517.242...</td>\n",
       "    </tr>\n",
       "  </tbody>\n",
       "</table>\n",
       "</div>"
      ],
      "text/plain": [
       "  PROV_ DEPTO_   COD_2001  \\\n",
       "0    02    001  020013201   \n",
       "1    02    001  020010710   \n",
       "2    02    001  020010706   \n",
       "3    02    001  020010701   \n",
       "4    02    001  020010702   \n",
       "\n",
       "                                                                                             geometry  \n",
       "0  (POLYGON ((4199821.283069543 6148736.97618706, 4199821.377926784 6148736.992521097, 4199821.473...  \n",
       "1  POLYGON ((4199386.00421795 6147696.99885848, 4199386.054304958 6147696.998524398, 4199386.14909...  \n",
       "2  POLYGON ((4197838.251689927 6148255.163349104, 4197838.292893219 6148255.207106781, 4197852.792...  \n",
       "3  POLYGON ((4197465.257097513 6148008.346698114, 4197465.189907974 6148008.276102916, 4197465.116...  \n",
       "4  POLYGON ((4197463.737490864 6148009.646977448, 4197463.742902487 6148009.653301886, 4197517.242...  "
      ]
     },
     "execution_count": 21,
     "metadata": {},
     "output_type": "execute_result"
    }
   ],
   "source": [
    "radios_ubicar.head()"
   ]
  },
  {
   "cell_type": "code",
   "execution_count": 24,
   "metadata": {},
   "outputs": [],
   "source": [
    "## Intersectar los radios de CABA y deptos subdivididos con los polis de IGS.\n",
    "inters = gpd.overlay(radios_ubicar, crossw_IGN_geo[['in1', 'geometry']], how='intersection')\n",
    "inters['area'] = inters.area"
   ]
  },
  {
   "cell_type": "code",
   "execution_count": 25,
   "metadata": {
    "collapsed": true
   },
   "outputs": [
    {
     "ename": "KeyboardInterrupt",
     "evalue": "",
     "output_type": "error",
     "traceback": [
      "\u001b[0;31m---------------------------------------------------------------------------\u001b[0m",
      "\u001b[0;31mKeyboardInterrupt\u001b[0m                         Traceback (most recent call last)",
      "\u001b[0;32m<ipython-input-25-f297a66ef7fe>\u001b[0m in \u001b[0;36m<module>\u001b[0;34m()\u001b[0m\n\u001b[1;32m      1\u001b[0m \u001b[0;31m# Quedarse con el que mas interseca.\u001b[0m\u001b[0;34m\u001b[0m\u001b[0;34m\u001b[0m\u001b[0;34m\u001b[0m\u001b[0m\n\u001b[1;32m      2\u001b[0m \u001b[0;31m## La fraccion se asigna al depto donde este mayor parte de su area.\u001b[0m\u001b[0;34m\u001b[0m\u001b[0;34m\u001b[0m\u001b[0;34m\u001b[0m\u001b[0m\n\u001b[0;32m----> 3\u001b[0;31m \u001b[0mradios_in_depto\u001b[0m \u001b[0;34m=\u001b[0m \u001b[0minters\u001b[0m\u001b[0;34m.\u001b[0m\u001b[0mgroupby\u001b[0m\u001b[0;34m(\u001b[0m\u001b[0;34m[\u001b[0m\u001b[0;34m'PROV_'\u001b[0m\u001b[0;34m,\u001b[0m \u001b[0;34m'DEPTO_'\u001b[0m\u001b[0;34m,\u001b[0m \u001b[0;34m'COD_2001'\u001b[0m\u001b[0;34m]\u001b[0m\u001b[0;34m)\u001b[0m\u001b[0;34m.\u001b[0m\u001b[0mapply\u001b[0m\u001b[0;34m(\u001b[0m\u001b[0;32mlambda\u001b[0m \u001b[0mx\u001b[0m\u001b[0;34m:\u001b[0m \u001b[0mx\u001b[0m\u001b[0;34m.\u001b[0m\u001b[0mnlargest\u001b[0m\u001b[0;34m(\u001b[0m\u001b[0;36m1\u001b[0m\u001b[0;34m,\u001b[0m \u001b[0;34m'area'\u001b[0m\u001b[0;34m)\u001b[0m\u001b[0;34m)\u001b[0m\u001b[0;34m.\u001b[0m\u001b[0mreset_index\u001b[0m\u001b[0;34m(\u001b[0m\u001b[0mdrop\u001b[0m \u001b[0;34m=\u001b[0m \u001b[0;32mTrue\u001b[0m\u001b[0;34m)\u001b[0m\u001b[0;34m[\u001b[0m\u001b[0;34m[\u001b[0m\u001b[0;34m'PROV_'\u001b[0m\u001b[0;34m,\u001b[0m \u001b[0;34m'DEPTO_'\u001b[0m\u001b[0;34m,\u001b[0m \u001b[0;34m'COD_2001'\u001b[0m\u001b[0;34m,\u001b[0m \u001b[0;34m'in1'\u001b[0m\u001b[0;34m]\u001b[0m\u001b[0;34m]\u001b[0m\u001b[0;34m\u001b[0m\u001b[0;34m\u001b[0m\u001b[0m\n\u001b[0m",
      "\u001b[0;32m~/anaconda2/envs/my_pymc_env/lib/python3.6/site-packages/pandas/core/groupby/groupby.py\u001b[0m in \u001b[0;36mapply\u001b[0;34m(self, func, *args, **kwargs)\u001b[0m\n\u001b[1;32m    687\u001b[0m         \u001b[0;32mwith\u001b[0m \u001b[0moption_context\u001b[0m\u001b[0;34m(\u001b[0m\u001b[0;34m'mode.chained_assignment'\u001b[0m\u001b[0;34m,\u001b[0m \u001b[0;32mNone\u001b[0m\u001b[0;34m)\u001b[0m\u001b[0;34m:\u001b[0m\u001b[0;34m\u001b[0m\u001b[0;34m\u001b[0m\u001b[0m\n\u001b[1;32m    688\u001b[0m             \u001b[0;32mtry\u001b[0m\u001b[0;34m:\u001b[0m\u001b[0;34m\u001b[0m\u001b[0;34m\u001b[0m\u001b[0m\n\u001b[0;32m--> 689\u001b[0;31m                 \u001b[0mresult\u001b[0m \u001b[0;34m=\u001b[0m \u001b[0mself\u001b[0m\u001b[0;34m.\u001b[0m\u001b[0m_python_apply_general\u001b[0m\u001b[0;34m(\u001b[0m\u001b[0mf\u001b[0m\u001b[0;34m)\u001b[0m\u001b[0;34m\u001b[0m\u001b[0;34m\u001b[0m\u001b[0m\n\u001b[0m\u001b[1;32m    690\u001b[0m             \u001b[0;32mexcept\u001b[0m \u001b[0mException\u001b[0m\u001b[0;34m:\u001b[0m\u001b[0;34m\u001b[0m\u001b[0;34m\u001b[0m\u001b[0m\n\u001b[1;32m    691\u001b[0m \u001b[0;34m\u001b[0m\u001b[0m\n",
      "\u001b[0;32m~/anaconda2/envs/my_pymc_env/lib/python3.6/site-packages/pandas/core/groupby/groupby.py\u001b[0m in \u001b[0;36m_python_apply_general\u001b[0;34m(self, f)\u001b[0m\n\u001b[1;32m    705\u001b[0m     \u001b[0;32mdef\u001b[0m \u001b[0m_python_apply_general\u001b[0m\u001b[0;34m(\u001b[0m\u001b[0mself\u001b[0m\u001b[0;34m,\u001b[0m \u001b[0mf\u001b[0m\u001b[0;34m)\u001b[0m\u001b[0;34m:\u001b[0m\u001b[0;34m\u001b[0m\u001b[0;34m\u001b[0m\u001b[0m\n\u001b[1;32m    706\u001b[0m         keys, values, mutated = self.grouper.apply(f, self._selected_obj,\n\u001b[0;32m--> 707\u001b[0;31m                                                    self.axis)\n\u001b[0m\u001b[1;32m    708\u001b[0m \u001b[0;34m\u001b[0m\u001b[0m\n\u001b[1;32m    709\u001b[0m         return self._wrap_applied_output(\n",
      "\u001b[0;32m~/anaconda2/envs/my_pymc_env/lib/python3.6/site-packages/pandas/core/groupby/ops.py\u001b[0m in \u001b[0;36mapply\u001b[0;34m(self, f, data, axis)\u001b[0m\n\u001b[1;32m    172\u001b[0m                 hasattr(splitter, 'fast_apply') and axis == 0):\n\u001b[1;32m    173\u001b[0m             \u001b[0;32mtry\u001b[0m\u001b[0;34m:\u001b[0m\u001b[0;34m\u001b[0m\u001b[0;34m\u001b[0m\u001b[0m\n\u001b[0;32m--> 174\u001b[0;31m                 \u001b[0mvalues\u001b[0m\u001b[0;34m,\u001b[0m \u001b[0mmutated\u001b[0m \u001b[0;34m=\u001b[0m \u001b[0msplitter\u001b[0m\u001b[0;34m.\u001b[0m\u001b[0mfast_apply\u001b[0m\u001b[0;34m(\u001b[0m\u001b[0mf\u001b[0m\u001b[0;34m,\u001b[0m \u001b[0mgroup_keys\u001b[0m\u001b[0;34m)\u001b[0m\u001b[0;34m\u001b[0m\u001b[0;34m\u001b[0m\u001b[0m\n\u001b[0m\u001b[1;32m    175\u001b[0m                 \u001b[0;32mreturn\u001b[0m \u001b[0mgroup_keys\u001b[0m\u001b[0;34m,\u001b[0m \u001b[0mvalues\u001b[0m\u001b[0;34m,\u001b[0m \u001b[0mmutated\u001b[0m\u001b[0;34m\u001b[0m\u001b[0;34m\u001b[0m\u001b[0m\n\u001b[1;32m    176\u001b[0m             \u001b[0;32mexcept\u001b[0m \u001b[0mreduction\u001b[0m\u001b[0;34m.\u001b[0m\u001b[0mInvalidApply\u001b[0m\u001b[0;34m:\u001b[0m\u001b[0;34m\u001b[0m\u001b[0;34m\u001b[0m\u001b[0m\n",
      "\u001b[0;32m~/anaconda2/envs/my_pymc_env/lib/python3.6/site-packages/pandas/core/groupby/ops.py\u001b[0m in \u001b[0;36mfast_apply\u001b[0;34m(self, f, names)\u001b[0m\n\u001b[1;32m    856\u001b[0m         \u001b[0msdata\u001b[0m \u001b[0;34m=\u001b[0m \u001b[0mself\u001b[0m\u001b[0;34m.\u001b[0m\u001b[0m_get_sorted_data\u001b[0m\u001b[0;34m(\u001b[0m\u001b[0;34m)\u001b[0m\u001b[0;34m\u001b[0m\u001b[0;34m\u001b[0m\u001b[0m\n\u001b[1;32m    857\u001b[0m         results, mutated = reduction.apply_frame_axis0(sdata, f, names,\n\u001b[0;32m--> 858\u001b[0;31m                                                        starts, ends)\n\u001b[0m\u001b[1;32m    859\u001b[0m \u001b[0;34m\u001b[0m\u001b[0m\n\u001b[1;32m    860\u001b[0m         \u001b[0;32mreturn\u001b[0m \u001b[0mresults\u001b[0m\u001b[0;34m,\u001b[0m \u001b[0mmutated\u001b[0m\u001b[0;34m\u001b[0m\u001b[0;34m\u001b[0m\u001b[0m\n",
      "\u001b[0;32mpandas/_libs/reduction.pyx\u001b[0m in \u001b[0;36mpandas._libs.reduction.apply_frame_axis0\u001b[0;34m()\u001b[0m\n",
      "\u001b[0;32m<ipython-input-25-f297a66ef7fe>\u001b[0m in \u001b[0;36m<lambda>\u001b[0;34m(x)\u001b[0m\n\u001b[1;32m      1\u001b[0m \u001b[0;31m# Quedarse con el que mas interseca.\u001b[0m\u001b[0;34m\u001b[0m\u001b[0;34m\u001b[0m\u001b[0;34m\u001b[0m\u001b[0m\n\u001b[1;32m      2\u001b[0m \u001b[0;31m## La fraccion se asigna al depto donde este mayor parte de su area.\u001b[0m\u001b[0;34m\u001b[0m\u001b[0;34m\u001b[0m\u001b[0;34m\u001b[0m\u001b[0m\n\u001b[0;32m----> 3\u001b[0;31m \u001b[0mradios_in_depto\u001b[0m \u001b[0;34m=\u001b[0m \u001b[0minters\u001b[0m\u001b[0;34m.\u001b[0m\u001b[0mgroupby\u001b[0m\u001b[0;34m(\u001b[0m\u001b[0;34m[\u001b[0m\u001b[0;34m'PROV_'\u001b[0m\u001b[0;34m,\u001b[0m \u001b[0;34m'DEPTO_'\u001b[0m\u001b[0;34m,\u001b[0m \u001b[0;34m'COD_2001'\u001b[0m\u001b[0;34m]\u001b[0m\u001b[0;34m)\u001b[0m\u001b[0;34m.\u001b[0m\u001b[0mapply\u001b[0m\u001b[0;34m(\u001b[0m\u001b[0;32mlambda\u001b[0m \u001b[0mx\u001b[0m\u001b[0;34m:\u001b[0m \u001b[0mx\u001b[0m\u001b[0;34m.\u001b[0m\u001b[0mnlargest\u001b[0m\u001b[0;34m(\u001b[0m\u001b[0;36m1\u001b[0m\u001b[0;34m,\u001b[0m \u001b[0;34m'area'\u001b[0m\u001b[0;34m)\u001b[0m\u001b[0;34m)\u001b[0m\u001b[0;34m.\u001b[0m\u001b[0mreset_index\u001b[0m\u001b[0;34m(\u001b[0m\u001b[0mdrop\u001b[0m \u001b[0;34m=\u001b[0m \u001b[0;32mTrue\u001b[0m\u001b[0;34m)\u001b[0m\u001b[0;34m[\u001b[0m\u001b[0;34m[\u001b[0m\u001b[0;34m'PROV_'\u001b[0m\u001b[0;34m,\u001b[0m \u001b[0;34m'DEPTO_'\u001b[0m\u001b[0;34m,\u001b[0m \u001b[0;34m'COD_2001'\u001b[0m\u001b[0;34m,\u001b[0m \u001b[0;34m'in1'\u001b[0m\u001b[0;34m]\u001b[0m\u001b[0;34m]\u001b[0m\u001b[0;34m\u001b[0m\u001b[0;34m\u001b[0m\u001b[0m\n\u001b[0m",
      "\u001b[0;32m~/anaconda2/envs/my_pymc_env/lib/python3.6/site-packages/pandas/core/frame.py\u001b[0m in \u001b[0;36mnlargest\u001b[0;34m(self, n, columns, keep)\u001b[0m\n\u001b[1;32m   4909\u001b[0m                                        \u001b[0mn\u001b[0m\u001b[0;34m=\u001b[0m\u001b[0mn\u001b[0m\u001b[0;34m,\u001b[0m\u001b[0;34m\u001b[0m\u001b[0;34m\u001b[0m\u001b[0m\n\u001b[1;32m   4910\u001b[0m                                        \u001b[0mkeep\u001b[0m\u001b[0;34m=\u001b[0m\u001b[0mkeep\u001b[0m\u001b[0;34m,\u001b[0m\u001b[0;34m\u001b[0m\u001b[0;34m\u001b[0m\u001b[0m\n\u001b[0;32m-> 4911\u001b[0;31m                                        columns=columns).nlargest()\n\u001b[0m\u001b[1;32m   4912\u001b[0m \u001b[0;34m\u001b[0m\u001b[0m\n\u001b[1;32m   4913\u001b[0m     \u001b[0;32mdef\u001b[0m \u001b[0mnsmallest\u001b[0m\u001b[0;34m(\u001b[0m\u001b[0mself\u001b[0m\u001b[0;34m,\u001b[0m \u001b[0mn\u001b[0m\u001b[0;34m,\u001b[0m \u001b[0mcolumns\u001b[0m\u001b[0;34m,\u001b[0m \u001b[0mkeep\u001b[0m\u001b[0;34m=\u001b[0m\u001b[0;34m'first'\u001b[0m\u001b[0;34m)\u001b[0m\u001b[0;34m:\u001b[0m\u001b[0;34m\u001b[0m\u001b[0;34m\u001b[0m\u001b[0m\n",
      "\u001b[0;32m~/anaconda2/envs/my_pymc_env/lib/python3.6/site-packages/pandas/core/algorithms.py\u001b[0m in \u001b[0;36mnlargest\u001b[0;34m(self)\u001b[0m\n\u001b[1;32m   1056\u001b[0m \u001b[0;34m\u001b[0m\u001b[0m\n\u001b[1;32m   1057\u001b[0m     \u001b[0;32mdef\u001b[0m \u001b[0mnlargest\u001b[0m\u001b[0;34m(\u001b[0m\u001b[0mself\u001b[0m\u001b[0;34m)\u001b[0m\u001b[0;34m:\u001b[0m\u001b[0;34m\u001b[0m\u001b[0;34m\u001b[0m\u001b[0m\n\u001b[0;32m-> 1058\u001b[0;31m         \u001b[0;32mreturn\u001b[0m \u001b[0mself\u001b[0m\u001b[0;34m.\u001b[0m\u001b[0mcompute\u001b[0m\u001b[0;34m(\u001b[0m\u001b[0;34m'nlargest'\u001b[0m\u001b[0;34m)\u001b[0m\u001b[0;34m\u001b[0m\u001b[0;34m\u001b[0m\u001b[0m\n\u001b[0m\u001b[1;32m   1059\u001b[0m \u001b[0;34m\u001b[0m\u001b[0m\n\u001b[1;32m   1060\u001b[0m     \u001b[0;32mdef\u001b[0m \u001b[0mnsmallest\u001b[0m\u001b[0;34m(\u001b[0m\u001b[0mself\u001b[0m\u001b[0;34m)\u001b[0m\u001b[0;34m:\u001b[0m\u001b[0;34m\u001b[0m\u001b[0;34m\u001b[0m\u001b[0m\n",
      "\u001b[0;32m~/anaconda2/envs/my_pymc_env/lib/python3.6/site-packages/pandas/core/algorithms.py\u001b[0m in \u001b[0;36mcompute\u001b[0;34m(self, method)\u001b[0m\n\u001b[1;32m   1197\u001b[0m             \u001b[0;31m# to determine which of the rows with the largest/smallest\u001b[0m\u001b[0;34m\u001b[0m\u001b[0;34m\u001b[0m\u001b[0;34m\u001b[0m\u001b[0m\n\u001b[1;32m   1198\u001b[0m             \u001b[0;31m# value in the column to keep.\u001b[0m\u001b[0;34m\u001b[0m\u001b[0;34m\u001b[0m\u001b[0;34m\u001b[0m\u001b[0m\n\u001b[0;32m-> 1199\u001b[0;31m             \u001b[0mseries\u001b[0m \u001b[0;34m=\u001b[0m \u001b[0mcur_frame\u001b[0m\u001b[0;34m[\u001b[0m\u001b[0mcolumn\u001b[0m\u001b[0;34m]\u001b[0m\u001b[0;34m\u001b[0m\u001b[0;34m\u001b[0m\u001b[0m\n\u001b[0m\u001b[1;32m   1200\u001b[0m             \u001b[0mis_last_column\u001b[0m \u001b[0;34m=\u001b[0m \u001b[0mlen\u001b[0m\u001b[0;34m(\u001b[0m\u001b[0mcolumns\u001b[0m\u001b[0;34m)\u001b[0m \u001b[0;34m-\u001b[0m \u001b[0;36m1\u001b[0m \u001b[0;34m==\u001b[0m \u001b[0mi\u001b[0m\u001b[0;34m\u001b[0m\u001b[0;34m\u001b[0m\u001b[0m\n\u001b[1;32m   1201\u001b[0m             values = getattr(series, method)(\n",
      "\u001b[0;32m~/anaconda2/envs/my_pymc_env/lib/python3.6/site-packages/geopandas/geodataframe.py\u001b[0m in \u001b[0;36m__getitem__\u001b[0;34m(self, key)\u001b[0m\n\u001b[1;32m    453\u001b[0m         \u001b[0mGeoDataFrame\u001b[0m\u001b[0;34m.\u001b[0m\u001b[0;34m\u001b[0m\u001b[0;34m\u001b[0m\u001b[0m\n\u001b[1;32m    454\u001b[0m         \"\"\"\n\u001b[0;32m--> 455\u001b[0;31m         \u001b[0mresult\u001b[0m \u001b[0;34m=\u001b[0m \u001b[0msuper\u001b[0m\u001b[0;34m(\u001b[0m\u001b[0mGeoDataFrame\u001b[0m\u001b[0;34m,\u001b[0m \u001b[0mself\u001b[0m\u001b[0;34m)\u001b[0m\u001b[0;34m.\u001b[0m\u001b[0m__getitem__\u001b[0m\u001b[0;34m(\u001b[0m\u001b[0mkey\u001b[0m\u001b[0;34m)\u001b[0m\u001b[0;34m\u001b[0m\u001b[0;34m\u001b[0m\u001b[0m\n\u001b[0m\u001b[1;32m    456\u001b[0m         \u001b[0mgeo_col\u001b[0m \u001b[0;34m=\u001b[0m \u001b[0mself\u001b[0m\u001b[0;34m.\u001b[0m\u001b[0m_geometry_column_name\u001b[0m\u001b[0;34m\u001b[0m\u001b[0;34m\u001b[0m\u001b[0m\n\u001b[1;32m    457\u001b[0m         \u001b[0;32mif\u001b[0m \u001b[0misinstance\u001b[0m\u001b[0;34m(\u001b[0m\u001b[0mkey\u001b[0m\u001b[0;34m,\u001b[0m \u001b[0mstring_types\u001b[0m\u001b[0;34m)\u001b[0m \u001b[0;32mand\u001b[0m \u001b[0mkey\u001b[0m \u001b[0;34m==\u001b[0m \u001b[0mgeo_col\u001b[0m\u001b[0;34m:\u001b[0m\u001b[0;34m\u001b[0m\u001b[0;34m\u001b[0m\u001b[0m\n",
      "\u001b[0;32m~/anaconda2/envs/my_pymc_env/lib/python3.6/site-packages/pandas/core/frame.py\u001b[0m in \u001b[0;36m__getitem__\u001b[0;34m(self, key)\u001b[0m\n\u001b[1;32m   2899\u001b[0m                 \u001b[0;32mif\u001b[0m \u001b[0mself\u001b[0m\u001b[0;34m.\u001b[0m\u001b[0mcolumns\u001b[0m\u001b[0;34m.\u001b[0m\u001b[0mnlevels\u001b[0m \u001b[0;34m>\u001b[0m \u001b[0;36m1\u001b[0m\u001b[0;34m:\u001b[0m\u001b[0;34m\u001b[0m\u001b[0;34m\u001b[0m\u001b[0m\n\u001b[1;32m   2900\u001b[0m                     \u001b[0;32mreturn\u001b[0m \u001b[0mself\u001b[0m\u001b[0;34m.\u001b[0m\u001b[0m_getitem_multilevel\u001b[0m\u001b[0;34m(\u001b[0m\u001b[0mkey\u001b[0m\u001b[0;34m)\u001b[0m\u001b[0;34m\u001b[0m\u001b[0;34m\u001b[0m\u001b[0m\n\u001b[0;32m-> 2901\u001b[0;31m                 \u001b[0;32mreturn\u001b[0m \u001b[0mself\u001b[0m\u001b[0;34m.\u001b[0m\u001b[0m_get_item_cache\u001b[0m\u001b[0;34m(\u001b[0m\u001b[0mkey\u001b[0m\u001b[0;34m)\u001b[0m\u001b[0;34m\u001b[0m\u001b[0;34m\u001b[0m\u001b[0m\n\u001b[0m\u001b[1;32m   2902\u001b[0m         \u001b[0;32mexcept\u001b[0m \u001b[0;34m(\u001b[0m\u001b[0mTypeError\u001b[0m\u001b[0;34m,\u001b[0m \u001b[0mValueError\u001b[0m\u001b[0;34m)\u001b[0m\u001b[0;34m:\u001b[0m\u001b[0;34m\u001b[0m\u001b[0;34m\u001b[0m\u001b[0m\n\u001b[1;32m   2903\u001b[0m             \u001b[0;31m# The TypeError correctly catches non hashable \"key\" (e.g. list)\u001b[0m\u001b[0;34m\u001b[0m\u001b[0;34m\u001b[0m\u001b[0;34m\u001b[0m\u001b[0m\n",
      "\u001b[0;32m~/anaconda2/envs/my_pymc_env/lib/python3.6/site-packages/pandas/core/generic.py\u001b[0m in \u001b[0;36m_get_item_cache\u001b[0;34m(self, item)\u001b[0m\n\u001b[1;32m   3060\u001b[0m         \u001b[0;32mif\u001b[0m \u001b[0mres\u001b[0m \u001b[0;32mis\u001b[0m \u001b[0;32mNone\u001b[0m\u001b[0;34m:\u001b[0m\u001b[0;34m\u001b[0m\u001b[0;34m\u001b[0m\u001b[0m\n\u001b[1;32m   3061\u001b[0m             \u001b[0mvalues\u001b[0m \u001b[0;34m=\u001b[0m \u001b[0mself\u001b[0m\u001b[0;34m.\u001b[0m\u001b[0m_data\u001b[0m\u001b[0;34m.\u001b[0m\u001b[0mget\u001b[0m\u001b[0;34m(\u001b[0m\u001b[0mitem\u001b[0m\u001b[0;34m)\u001b[0m\u001b[0;34m\u001b[0m\u001b[0;34m\u001b[0m\u001b[0m\n\u001b[0;32m-> 3062\u001b[0;31m             \u001b[0mres\u001b[0m \u001b[0;34m=\u001b[0m \u001b[0mself\u001b[0m\u001b[0;34m.\u001b[0m\u001b[0m_box_item_values\u001b[0m\u001b[0;34m(\u001b[0m\u001b[0mitem\u001b[0m\u001b[0;34m,\u001b[0m \u001b[0mvalues\u001b[0m\u001b[0;34m)\u001b[0m\u001b[0;34m\u001b[0m\u001b[0;34m\u001b[0m\u001b[0m\n\u001b[0m\u001b[1;32m   3063\u001b[0m             \u001b[0mcache\u001b[0m\u001b[0;34m[\u001b[0m\u001b[0mitem\u001b[0m\u001b[0;34m]\u001b[0m \u001b[0;34m=\u001b[0m \u001b[0mres\u001b[0m\u001b[0;34m\u001b[0m\u001b[0;34m\u001b[0m\u001b[0m\n\u001b[1;32m   3064\u001b[0m             \u001b[0mres\u001b[0m\u001b[0;34m.\u001b[0m\u001b[0m_set_as_cached\u001b[0m\u001b[0;34m(\u001b[0m\u001b[0mitem\u001b[0m\u001b[0;34m,\u001b[0m \u001b[0mself\u001b[0m\u001b[0;34m)\u001b[0m\u001b[0;34m\u001b[0m\u001b[0;34m\u001b[0m\u001b[0m\n",
      "\u001b[0;32m~/anaconda2/envs/my_pymc_env/lib/python3.6/site-packages/pandas/core/frame.py\u001b[0m in \u001b[0;36m_box_item_values\u001b[0;34m(self, key, values)\u001b[0m\n\u001b[1;32m   3345\u001b[0m             \u001b[0;32mreturn\u001b[0m \u001b[0mself\u001b[0m\u001b[0;34m.\u001b[0m\u001b[0m_constructor\u001b[0m\u001b[0;34m(\u001b[0m\u001b[0mvalues\u001b[0m\u001b[0;34m.\u001b[0m\u001b[0mT\u001b[0m\u001b[0;34m,\u001b[0m \u001b[0mcolumns\u001b[0m\u001b[0;34m=\u001b[0m\u001b[0mitems\u001b[0m\u001b[0;34m,\u001b[0m \u001b[0mindex\u001b[0m\u001b[0;34m=\u001b[0m\u001b[0mself\u001b[0m\u001b[0;34m.\u001b[0m\u001b[0mindex\u001b[0m\u001b[0;34m)\u001b[0m\u001b[0;34m\u001b[0m\u001b[0;34m\u001b[0m\u001b[0m\n\u001b[1;32m   3346\u001b[0m         \u001b[0;32melse\u001b[0m\u001b[0;34m:\u001b[0m\u001b[0;34m\u001b[0m\u001b[0;34m\u001b[0m\u001b[0m\n\u001b[0;32m-> 3347\u001b[0;31m             \u001b[0;32mreturn\u001b[0m \u001b[0mself\u001b[0m\u001b[0;34m.\u001b[0m\u001b[0m_box_col_values\u001b[0m\u001b[0;34m(\u001b[0m\u001b[0mvalues\u001b[0m\u001b[0;34m,\u001b[0m \u001b[0mitems\u001b[0m\u001b[0;34m)\u001b[0m\u001b[0;34m\u001b[0m\u001b[0;34m\u001b[0m\u001b[0m\n\u001b[0m\u001b[1;32m   3348\u001b[0m \u001b[0;34m\u001b[0m\u001b[0m\n\u001b[1;32m   3349\u001b[0m     \u001b[0;32mdef\u001b[0m \u001b[0m_box_col_values\u001b[0m\u001b[0;34m(\u001b[0m\u001b[0mself\u001b[0m\u001b[0;34m,\u001b[0m \u001b[0mvalues\u001b[0m\u001b[0;34m,\u001b[0m \u001b[0mitems\u001b[0m\u001b[0;34m)\u001b[0m\u001b[0;34m:\u001b[0m\u001b[0;34m\u001b[0m\u001b[0;34m\u001b[0m\u001b[0m\n",
      "\u001b[0;32m~/anaconda2/envs/my_pymc_env/lib/python3.6/site-packages/pandas/core/frame.py\u001b[0m in \u001b[0;36m_box_col_values\u001b[0;34m(self, values, items)\u001b[0m\n\u001b[1;32m   3352\u001b[0m         \"\"\"\n\u001b[1;32m   3353\u001b[0m         \u001b[0mklass\u001b[0m \u001b[0;34m=\u001b[0m \u001b[0mself\u001b[0m\u001b[0;34m.\u001b[0m\u001b[0m_constructor_sliced\u001b[0m\u001b[0;34m\u001b[0m\u001b[0;34m\u001b[0m\u001b[0m\n\u001b[0;32m-> 3354\u001b[0;31m         \u001b[0;32mreturn\u001b[0m \u001b[0mklass\u001b[0m\u001b[0;34m(\u001b[0m\u001b[0mvalues\u001b[0m\u001b[0;34m,\u001b[0m \u001b[0mindex\u001b[0m\u001b[0;34m=\u001b[0m\u001b[0mself\u001b[0m\u001b[0;34m.\u001b[0m\u001b[0mindex\u001b[0m\u001b[0;34m,\u001b[0m \u001b[0mname\u001b[0m\u001b[0;34m=\u001b[0m\u001b[0mitems\u001b[0m\u001b[0;34m,\u001b[0m \u001b[0mfastpath\u001b[0m\u001b[0;34m=\u001b[0m\u001b[0;32mTrue\u001b[0m\u001b[0;34m)\u001b[0m\u001b[0;34m\u001b[0m\u001b[0;34m\u001b[0m\u001b[0m\n\u001b[0m\u001b[1;32m   3355\u001b[0m \u001b[0;34m\u001b[0m\u001b[0m\n\u001b[1;32m   3356\u001b[0m     \u001b[0;32mdef\u001b[0m \u001b[0m__setitem__\u001b[0m\u001b[0;34m(\u001b[0m\u001b[0mself\u001b[0m\u001b[0;34m,\u001b[0m \u001b[0mkey\u001b[0m\u001b[0;34m,\u001b[0m \u001b[0mvalue\u001b[0m\u001b[0;34m)\u001b[0m\u001b[0;34m:\u001b[0m\u001b[0;34m\u001b[0m\u001b[0;34m\u001b[0m\u001b[0m\n",
      "\u001b[0;32m~/anaconda2/envs/my_pymc_env/lib/python3.6/site-packages/pandas/core/series.py\u001b[0m in \u001b[0;36m__init__\u001b[0;34m(self, data, index, dtype, name, copy, fastpath)\u001b[0m\n\u001b[1;32m    157\u001b[0m \u001b[0;34m\u001b[0m\u001b[0m\n\u001b[1;32m    158\u001b[0m             \u001b[0;31m# data is an ndarray, index is defined\u001b[0m\u001b[0;34m\u001b[0m\u001b[0;34m\u001b[0m\u001b[0;34m\u001b[0m\u001b[0m\n\u001b[0;32m--> 159\u001b[0;31m             \u001b[0;32mif\u001b[0m \u001b[0;32mnot\u001b[0m \u001b[0misinstance\u001b[0m\u001b[0;34m(\u001b[0m\u001b[0mdata\u001b[0m\u001b[0;34m,\u001b[0m \u001b[0mSingleBlockManager\u001b[0m\u001b[0;34m)\u001b[0m\u001b[0;34m:\u001b[0m\u001b[0;34m\u001b[0m\u001b[0;34m\u001b[0m\u001b[0m\n\u001b[0m\u001b[1;32m    160\u001b[0m                 \u001b[0mdata\u001b[0m \u001b[0;34m=\u001b[0m \u001b[0mSingleBlockManager\u001b[0m\u001b[0;34m(\u001b[0m\u001b[0mdata\u001b[0m\u001b[0;34m,\u001b[0m \u001b[0mindex\u001b[0m\u001b[0;34m,\u001b[0m \u001b[0mfastpath\u001b[0m\u001b[0;34m=\u001b[0m\u001b[0;32mTrue\u001b[0m\u001b[0;34m)\u001b[0m\u001b[0;34m\u001b[0m\u001b[0;34m\u001b[0m\u001b[0m\n\u001b[1;32m    161\u001b[0m             \u001b[0;32mif\u001b[0m \u001b[0mcopy\u001b[0m\u001b[0;34m:\u001b[0m\u001b[0;34m\u001b[0m\u001b[0;34m\u001b[0m\u001b[0m\n",
      "\u001b[0;31mKeyboardInterrupt\u001b[0m: "
     ]
    }
   ],
   "source": [
    "# Quedarse con el que mas interseca.\n",
    "## La fraccion se asigna al depto donde este mayor parte de su area.\n",
    "radios_in_depto = inters.groupby(['PROV_', 'DEPTO_', 'COD_2001']).apply(lambda x: x.nlargest(1, 'area')).reset_index(drop = True)[['PROV_', 'DEPTO_', 'COD_2001', 'in1']]"
   ]
  },
  {
   "cell_type": "code",
   "execution_count": null,
   "metadata": {},
   "outputs": [],
   "source": [
    "radios_in_depto.head()"
   ]
  },
  {
   "cell_type": "code",
   "execution_count": null,
   "metadata": {
    "scrolled": false
   },
   "outputs": [],
   "source": [
    "# for i, row in crossw_geo[['PROV_','DEPTO_']].drop_duplicates().iterrows():\n",
    "    \n",
    "#     rads = radios_in_depto.loc[(radios_in_depto.PROV_ == row.PROV_) & (radios_in_depto.DEPTO_ == row.DEPTO_)]\n",
    "\n",
    "\n",
    "for i, row in crossw_geo[['PROV_']].drop_duplicates().iterrows():\n",
    "    rads = radios_in_depto.loc[(radios_in_depto.PROV_ == row.PROV_)]\n",
    "    rads_gdf = gpd.GeoDataFrame(rads.merge(CONICET_radios[['COD_2001', 'geometry']]))\n",
    "    \n",
    "    fig, ax = plt.subplots(1, figsize = (10, 10))\n",
    "    \n",
    "    rads_gdf.plot('in1', ax = ax, alpha = .5, edgecolor = 'w', lw = .4)\n",
    "    \n",
    "    ref_.loc[ref_.PROV_ == row.PROV_].plot(color = 'None', edgecolor = 'g', ax = ax, lw = .5)\n",
    "\n",
    "    limits = gpd.GeoDataFrame(rads.merge(CONICET_radios[['COD_2001', 'geometry']])).dissolve('in1')\n",
    "    limits.plot(color = 'None', edgecolor = 'r', ax = ax, lw = .5)\n",
    "    \n",
    "    # plot bounds\n",
    "    x0, y0, x1, y1 = rads_gdf.total_bounds # minx, miny, maxx, maxy\n",
    "    ax.set_xlim(x0, x1); ax.set_ylim(y0, y1)\n",
    "    ax.axis('off')\n",
    "\n",
    "    plt.show()"
   ]
  },
  {
   "cell_type": "code",
   "execution_count": null,
   "metadata": {},
   "outputs": [],
   "source": [
    "xx"
   ]
  },
  {
   "cell_type": "code",
   "execution_count": null,
   "metadata": {},
   "outputs": [],
   "source": []
  },
  {
   "cell_type": "code",
   "execution_count": null,
   "metadata": {},
   "outputs": [],
   "source": [
    "spat_join = fracs_in_depto.groupby(['PROV_', 'DEPTO_', 'in1']).size().reset_index()\n",
    "spat_join = spat_join.rename(columns = {0: 'n_fracs_in_depto'})\n",
    "\n",
    "### Si en result los codigos son iguales, asociarlas.\n",
    "## Esto es porque los DPTOS que se subdividen cambian el codigo. \n",
    "## Ademas, asi se evitan asociaciones espurias debidas a desalineamientos. La excepcion son las comunas de CABA, pero con esos no hay problemas de desalineaminto\n",
    "\n",
    "dpto_codes_match_confirmados_2 = spat_join.loc[(spat_join.PROV_ + spat_join.DEPTO_) == spat_join.in1].drop('n_fracs_in_depto', 1) \n",
    "## Con que una fraccion este en un in1 del mismo codigo, ya todas las fracciones vienen asignadas a ese codigo en comun.\n",
    "\n",
    "dpto_codes_match_confirmados_3 = pd.concat([dpto_codes_match_confirmados_1, dpto_codes_match_confirmados_2])\n",
    "\n",
    "## Usar las intersecciones en los casos donde no coinciden los codigos\n",
    "fracs_in_depto_ = fracs_in_depto.loc[~fracs_in_depto['in1'].isin(dpto_codes_match_confirmados_3['in1'])]\n",
    "# ### Las Fracciones que quedan son de Chascomus, TdF y CABA"
   ]
  },
  {
   "cell_type": "code",
   "execution_count": null,
   "metadata": {},
   "outputs": [],
   "source": [
    "spat_join"
   ]
  },
  {
   "cell_type": "code",
   "execution_count": null,
   "metadata": {},
   "outputs": [],
   "source": [
    "## Primero se hace un merge por codigos\n",
    "## Despues se mira la interseccion. Si hay algo cercano a un 1 a 1 ya esta."
   ]
  },
  {
   "cell_type": "code",
   "execution_count": null,
   "metadata": {},
   "outputs": [],
   "source": [
    "### ETAPA 1: merge por codigos.\n",
    "## Se une por codigos y se mira si hay interseccion mutua\n",
    "\n",
    "dpto_codes = dptos_censo[['PROV_', 'DEPTO_', 'geometry']].merge(ref_[['PROV_', 'DEPTO_', 'geometry']], on = ['PROV_', 'DEPTO_'], how = 'outer', indicator = True)\n",
    "\n",
    "### Los codigos que hayan coincidido se chequean por interseccion espacial. \n",
    "\n",
    "dpto_codes_match = gpd.GeoDataFrame(dpto_codes.loc[dpto_codes._merge == 'both'])\n",
    "inters_ = gpd.GeoSeries(dpto_codes_match['geometry_x']).intersection(gpd.GeoSeries(dpto_codes_match['geometry_y']))\n",
    "\n",
    "dpto_codes_match['test1'] = (gpd.GeoSeries(dpto_codes_match['geometry_x']).area/inters_.area)\n",
    "dpto_codes_match['test2'] = (gpd.GeoSeries(dpto_codes_match['geometry_y']).area/inters_.area)"
   ]
  },
  {
   "cell_type": "code",
   "execution_count": null,
   "metadata": {},
   "outputs": [],
   "source": [
    "# gpd.GeoDataFrame(merged_geom.loc[merged_geom._merge != 'both'])\n",
    "\n",
    "dpto_codes._merge.value_counts()"
   ]
  },
  {
   "cell_type": "code",
   "execution_count": null,
   "metadata": {},
   "outputs": [],
   "source": [
    "### Tenemos los DEPTOS que se unieron en 1ra etapa. (la mayoria)\n",
    "dpto_codes_match_confirmados_1 = dpto_codes_match.loc[(abs(dpto_codes_match.test1 - 1) < .1) & (abs(dpto_codes_match.test2 - 1) < .1)][['PROV_', 'DEPTO_']]\n",
    "dpto_codes_match_confirmados_1['in1'] = dpto_codes_match_confirmados_1.PROV_ + dpto_codes_match_confirmados_1.DEPTO_\n",
    "\n",
    "# Los radios de estos deptos se pueden unir de CONICET a IGN a partir de la clave.\n",
    "dpto_codes_match_confirmados_1.shape\n",
    "\n",
    "# En estos casos, los codigos de DPTO que usa el indec en Censo son los mismos que usa IGN"
   ]
  },
  {
   "cell_type": "code",
   "execution_count": null,
   "metadata": {},
   "outputs": [],
   "source": [
    "## Para ver los confirmados, chequear nombres, etc\n",
    "\n",
    "# gdf = dpto_codes_match_confirmados_1.merge(ref_[['PROV_', 'DEPTO_', 'nam', 'geometry']], how = 'outer', indicator = True)\n",
    "\n",
    "# fig, ax = plt.subplots(1, figsize = (5, 10))\n",
    "\n",
    "# gpd.GeoDataFrame(gdf.loc[gdf._merge == 'both']).plot(ax = ax, color = 'g', edgecolor = 'k', lw = 0)\n",
    "# gpd.GeoDataFrame(gdf.loc[gdf._merge != 'both']).plot(ax = ax, color = 'r', edgecolor = 'k', lw = 0)\n",
    "\n",
    "# plt.show()"
   ]
  },
  {
   "cell_type": "code",
   "execution_count": null,
   "metadata": {},
   "outputs": [],
   "source": [
    "## En cambio, en estos casos hay alguna diferencia entre las geometrias, de modo que se van a unir espacialmente.\n",
    "ok_vals = dpto_codes_match_confirmados_1.in1.values"
   ]
  },
  {
   "cell_type": "code",
   "execution_count": null,
   "metadata": {},
   "outputs": [],
   "source": [
    "xx"
   ]
  },
  {
   "cell_type": "code",
   "execution_count": null,
   "metadata": {},
   "outputs": [],
   "source": [
    "## Obtener las fracciones que NO estan en ok_vals\n",
    "fracs_ubicar = CONICET_fracs.loc[~(CONICET_fracs.PROV_ + CONICET_fracs.DEPTO_).isin(ok_vals)].sort_values(['PROV_','DEPTO_','FRACC_'])\n",
    "\n",
    "## Son todos los de CABA porque IGN usa otro codigo para las comunas, ademas de algunos del interior donde hubo cambios, (eg. Chascomus Lezama, TdF)\n",
    "fracs_ubicar.shape"
   ]
  },
  {
   "cell_type": "code",
   "execution_count": null,
   "metadata": {},
   "outputs": [],
   "source": [
    "### Puede haber algunas fracciones sin poligono. Esto va a pasar para Antartida e islas, y tambien para alguna fraccion perdida. \n",
    "# Las dejo perder?\n",
    "\n",
    "display(fracs_ubicar.loc[fracs_ubicar.geometry.isna()])\n",
    "# fracs_ubicar.loc[(fracs_ubicar.PROV_ == '86') & (fracs_ubicar.DEPTO_ == '063')]\n",
    "\n",
    "fracs_ubicar = fracs_ubicar.loc[fracs_ubicar.geometry.notna()]"
   ]
  },
  {
   "cell_type": "code",
   "execution_count": null,
   "metadata": {},
   "outputs": [],
   "source": [
    "## Como no son muchas, se pueden hacer sin loop provincial.\n",
    "\n",
    "inters = gpd.overlay(fracs_ubicar, ref_[['in1', 'geometry']], how='intersection') \n",
    "inters['area'] = inters.area\n",
    "\n",
    "## La fraccion se asigna al depto donde este mayor parte de su area.\n",
    "fracs_in_depto = inters.groupby(['PROV_', 'DEPTO_', 'FRACC_']).apply(lambda x: x.nlargest(1, 'area')).reset_index(drop = True)[['PROV_', 'DEPTO_', 'FRACC_', 'in1']]\n",
    "# matches['PROV_DEPTO_'] = matches['PROV_'] + matches['DEPTO_']\n",
    "\n",
    "## *\n",
    "spat_join = fracs_in_depto.groupby(['PROV_', 'DEPTO_', 'in1']).size().reset_index()\n",
    "spat_join = spat_join.rename(columns = {0: 'n_fracs_in_depto'})\n",
    "\n",
    "### Si en result los codigos son iguales, asociarlas.\n",
    "## Esto es porque los DPTOS que se subdividen cambian el codigo. \n",
    "## Ademas, asi se evitan asociaciones espurias debidas a desalineamientos. La excepcion son las comunas de CABA, pero con esos no hay problemas de desalineaminto\n",
    "\n",
    "dpto_codes_match_confirmados_2 = spat_join.loc[(spat_join.PROV_ + spat_join.DEPTO_) == spat_join.in1].drop('n_fracs_in_depto', 1) \n",
    "## Con que una fraccion este en un in1 del mismo codigo, ya todas las fracciones vienen asignadas a ese codigo en comun.\n",
    "\n",
    "dpto_codes_match_confirmados_3 = pd.concat([dpto_codes_match_confirmados_1, dpto_codes_match_confirmados_2])\n",
    "\n",
    "## Usar las intersecciones en los casos donde no coinciden los codigos\n",
    "fracs_in_depto_ = fracs_in_depto.loc[~fracs_in_depto['in1'].isin(dpto_codes_match_confirmados_3['in1'])]\n",
    "# ### Las Fracciones que quedan son de Chascomus, TdF y CABA"
   ]
  },
  {
   "cell_type": "code",
   "execution_count": null,
   "metadata": {},
   "outputs": [],
   "source": [
    "### El resultado final es\n",
    "result = censo[['PROV_','DEPTO_','FRACC_']].merge(fracs_in_depto_, how = 'left')\n",
    "result['in1'] = result['in1'].fillna(result.PROV_ + result.DEPTO_)"
   ]
  },
  {
   "cell_type": "code",
   "execution_count": null,
   "metadata": {},
   "outputs": [],
   "source": [
    "result.head()"
   ]
  },
  {
   "cell_type": "code",
   "execution_count": null,
   "metadata": {},
   "outputs": [],
   "source": [
    "test = result.groupby(['PROV_','DEPTO_']).in1.nunique()\n",
    "test = test.loc[test > 1].reset_index()\n",
    "test = test.drop('in1', 1).merge(spat_join, on = ['PROV_','DEPTO_'])\n",
    "test.merge(ref_[['in1', 'nam']])#.sort_values(['PROV_', 'DEPTO_', 'FRACC_'])"
   ]
  },
  {
   "cell_type": "code",
   "execution_count": null,
   "metadata": {},
   "outputs": [],
   "source": [
    "cross = test.merge(ref_[['in1', 'nam', 'geometry']], on = 'in1').sort_values(['PROV_', 'DEPTO_'])\n",
    "cross.to_csv('./cross_'+year+'_IGN.csv', index = False)\n",
    "cross"
   ]
  },
  {
   "cell_type": "code",
   "execution_count": null,
   "metadata": {},
   "outputs": [],
   "source": [
    "xx"
   ]
  },
  {
   "cell_type": "code",
   "execution_count": null,
   "metadata": {},
   "outputs": [],
   "source": [
    "provs_gdf = ref_[['PROV_', 'geometry']].dissolve('PROV_')"
   ]
  },
  {
   "cell_type": "code",
   "execution_count": null,
   "metadata": {},
   "outputs": [],
   "source": [
    "ref_provs = gpd.read_file('./../chequeo_geo/provincia_IGN/')\n",
    "ref_provs = ref_provs.to_crs(CONICET_radios.crs)\n",
    "ref_provs['PROV_'] = ref_provs['in1'].str[:2]\n",
    "ref_provs['DEPTO_'] = ref_provs['in1'].str[2:]\n",
    "# ref_provs.head()"
   ]
  },
  {
   "cell_type": "code",
   "execution_count": null,
   "metadata": {
    "scrolled": false
   },
   "outputs": [],
   "source": [
    "for i, row in test[['PROV_', 'DEPTO_']].drop_duplicates().iterrows():\n",
    "    \n",
    "    fig, ax = plt.subplots(1, figsize = (10, 10))\n",
    "    \n",
    "    # select\n",
    "    censo_ = result.loc[(result.PROV_ == row.PROV_) & (result.DEPTO_ == row.DEPTO_)]\n",
    "    dpto_gdf = gpd.GeoDataFrame(censo_[['PROV_', 'DEPTO_']].drop_duplicates().merge(CONICET_dptos))\n",
    "    dpto_gdf.plot(ax = ax, color = 'None', edgecolor = 'k', lw = 1.5)\n",
    "    \n",
    "    gpd.GeoDataFrame(censo_.merge(CONICET_fracs)).plot('in1', ax = ax, alpha = .4, edgecolor = 'k')\n",
    "    \n",
    "    ign_gdf = pd.DataFrame(row).T.merge(test).merge(ref_[['in1', 'nam', 'geometry']], on = 'in1')\n",
    "    ign_gdf = gpd.GeoDataFrame(ign_gdf)\n",
    "    ign_gdf.plot(ax = ax, color = 'None', edgecolor = 'g', lw = 1.5)\n",
    "    \n",
    "    # plot bounds\n",
    "    x0, y0, x1, y1 = dpto_gdf.geometry.unary_union.bounds\n",
    "    ax.set_xlim(x0, x1); ax.set_ylim(y0, y1)\n",
    "    ax.axis('off')\n",
    "    \n",
    "    display(ign_gdf[['PROV_','DEPTO_','in1', 'nam']])\n",
    "    plt.show()"
   ]
  },
  {
   "cell_type": "code",
   "execution_count": null,
   "metadata": {},
   "outputs": [],
   "source": [
    "# ## Como no son muchas, se pueden hacer sin loop provincial.\n",
    "\n",
    "# inters = gpd.overlay(fracs_ubicar, ref_[['in1', 'geometry']], how='intersection') \n",
    "# inters['area'] = inters.area\n",
    "\n",
    "# ## La fraccion se asigna al depto donde este mayor parte de su area.\n",
    "# fracs_in_depto = inters.groupby(['PROV_', 'DEPTO_', 'FRACC_']).apply(lambda x: x.nlargest(1, 'area')).reset_index(drop = True)[['PROV_', 'DEPTO_', 'FRACC_', 'in1']]\n",
    "# # matches['PROV_DEPTO_'] = matches['PROV_'] + matches['DEPTO_']\n",
    "\n",
    "# spat_join = censo[['PROV_','DEPTO_','FRACC_']].merge(fracs_in_depto, how = 'left')\n",
    "# spat_join['in1'] = spat_join['in1'].fillna(spat_join.PROV_ + spat_join.DEPTO_)\n"
   ]
  },
  {
   "cell_type": "code",
   "execution_count": null,
   "metadata": {},
   "outputs": [],
   "source": []
  }
 ],
 "metadata": {
  "kernelspec": {
   "display_name": "Python 3",
   "language": "python",
   "name": "python3"
  },
  "language_info": {
   "codemirror_mode": {
    "name": "ipython",
    "version": 3
   },
   "file_extension": ".py",
   "mimetype": "text/x-python",
   "name": "python",
   "nbconvert_exporter": "python",
   "pygments_lexer": "ipython3",
   "version": "3.6.7"
  }
 },
 "nbformat": 4,
 "nbformat_minor": 2
}
